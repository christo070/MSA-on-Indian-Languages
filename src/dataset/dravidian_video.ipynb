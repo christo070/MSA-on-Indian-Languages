{
 "cells": [
  {
   "cell_type": "code",
   "execution_count": 1,
   "metadata": {},
   "outputs": [
    {
     "name": "stderr",
     "output_type": "stream",
     "text": [
      "2024-04-02 10:59:29.881768: I tensorflow/core/util/port.cc:113] oneDNN custom operations are on. You may see slightly different numerical results due to floating-point round-off errors from different computation orders. To turn them off, set the environment variable `TF_ENABLE_ONEDNN_OPTS=0`.\n",
      "2024-04-02 10:59:30.111622: I tensorflow/core/platform/cpu_feature_guard.cc:210] This TensorFlow binary is optimized to use available CPU instructions in performance-critical operations.\n",
      "To enable the following instructions: AVX2 AVX512F AVX512_VNNI FMA, in other operations, rebuild TensorFlow with the appropriate compiler flags.\n",
      "2024-04-02 10:59:30.999888: W tensorflow/compiler/tf2tensorrt/utils/py_utils.cc:38] TF-TRT Warning: Could not find TensorRT\n"
     ]
    }
   ],
   "source": [
    "import cv2\n",
    "import numpy as np\n",
    "from keras.applications.resnet50 import ResNet50, preprocess_input\n",
    "from sklearn.decomposition import PCA\n",
    "import h5py, os"
   ]
  },
  {
   "cell_type": "code",
   "execution_count": 4,
   "metadata": {},
   "outputs": [],
   "source": [
    "# Load pre-trained ResNet50 model without the classification layer\n",
    "base_model = ResNet50(weights='imagenet', include_top=False, pooling='avg')\n",
    "\n",
    "# Function to extract features from frames using ResNet50\n",
    "def extract_features(frames):\n",
    "    features_list = []\n",
    "    for frame in frames:\n",
    "        # Preprocess frame for ResNet50 input\n",
    "        processed_frame = preprocess_input(frame)\n",
    "        # Extract features from the frame\n",
    "        features = base_model.predict(np.expand_dims(processed_frame, axis=0))\n",
    "        features_list.append(features.flatten())\n",
    "    return features_list\n",
    "\n",
    "# Function to process video and generate embeddings\n",
    "def process_video(video_path):\n",
    "    cap = cv2.VideoCapture(video_path)\n",
    "    frame_count = int(cap.get(cv2.CAP_PROP_FRAME_COUNT))\n",
    "    frame_width = int(cap.get(cv2.CAP_PROP_FRAME_WIDTH))\n",
    "    frame_height = int(cap.get(cv2.CAP_PROP_FRAME_HEIGHT))\n",
    "    frames = []\n",
    "\n",
    "    # Read frames from the video\n",
    "    for _ in range(frame_count):\n",
    "        ret, frame = cap.read()\n",
    "        if ret:\n",
    "            frames.append(cv2.resize(frame, (224, 224)))  # Resize frame to match ResNet50 input size\n",
    "\n",
    "    # Extract features from frames\n",
    "    features = extract_features(frames)\n",
    "\n",
    "    # Perform PCA for dimensionality reduction\n",
    "    pca = PCA(n_components=512)  # Adjust the number of components as needed\n",
    "    embeddings = pca.fit_transform(features)\n",
    "\n",
    "    return embeddings"
   ]
  },
  {
   "cell_type": "code",
   "execution_count": 2,
   "metadata": {},
   "outputs": [],
   "source": [
    "#  Process all videos in the folder\n",
    "video_folder = \"../../datasets/Dravidian Dataset/malayalam_data/videos\"\n",
    "output_folder = \"../../datasets/Dravidian Dataset/malayalam_data/embeddings\"\n",
    "video_embeddings_path = os.path.join(output_folder, \"video_embeddings.h5\")"
   ]
  },
  {
   "cell_type": "code",
   "execution_count": null,
   "metadata": {},
   "outputs": [],
   "source": [
    "# Create a dictionary to store video embeddings\n",
    "video_embeddings = {}\n",
    "\n",
    "for video_file in os.listdir(video_folder):\n",
    "    if video_file.endswith(\".mp4\"):\n",
    "        video_path = os.path.join(video_folder, video_file)\n",
    "        embedding = process_video(video_path)\n",
    "        video_name = os.path.splitext(video_file)[0]\n",
    "        video_embeddings[video_name] = embedding\n",
    "\n",
    "# Create an HDF5 file and write the data\n",
    "with h5py.File(video_embeddings_path, 'w') as hf:\n",
    "    for video_id, embedding in video_embeddings.items():\n",
    "        hf.create_dataset(video_id, data=embedding)\n",
    "        print(embedding.shape)"
   ]
  },
  {
   "cell_type": "code",
   "execution_count": 9,
   "metadata": {},
   "outputs": [
    {
     "name": "stdout",
     "output_type": "stream",
     "text": [
      "Groups in the HDF5 file:\n",
      "['MAL_MSA_01', 'MAL_MSA_02', 'MAL_MSA_03', 'MAL_MSA_04', 'MAL_MSA_05', 'MAL_MSA_06', 'MAL_MSA_07', 'MAL_MSA_08', 'MAL_MSA_09', 'MAL_MSA_10', 'MAL_MSA_11', 'MAL_MSA_12', 'MAL_MSA_13', 'MAL_MSA_14', 'MAL_MSA_15', 'MAL_MSA_16', 'MAL_MSA_18', 'MAL_MSA_19', 'MAL_MSA_20', 'MAL_MSA_21', 'MAL_MSA_22', 'MAL_MSA_23', 'MAL_MSA_24', 'MAL_MSA_25', 'MAL_MSA_26', 'MAL_MSA_27', 'MAL_MSA_28', 'MAL_MSA_29', 'MAL_MSA_30', 'MAL_MSA_31', 'MAL_MSA_32', 'MAL_MSA_33', 'MAL_MSA_34', 'MAL_MSA_35', 'MAL_MSA_36', 'MAL_MSA_37', 'MAL_MSA_38', 'MAL_MSA_39', 'MAL_MSA_40', 'MAL_MSA_41', 'MAL_MSA_42', 'MAL_MSA_43', 'MAL_MSA_44', 'MAL_MSA_45', 'MAL_MSA_46', 'MAL_MSA_47', 'MAL_MSA_48', 'MAL_MSA_49', 'MAL_MSA_50', 'MAL_MSA_51', 'MAL_MSA_52', 'MAL_MSA_53', 'MAL_MSA_54', 'MAL_MSA_55', 'MAL_MSA_56', 'MAL_MSA_57', 'MAL_MSA_58', 'MAL_MSA_59', 'MAL_MSA_60', 'MAL_MSA_61', 'MAL_MSA_62', 'MAL_MSA_63', 'MAL_MSA_64', 'MAL_MSA_65', 'MAL_MSA_66', 'MAL_MSA_67', 'MAL_MSA_68', 'MAL_MSA_69', 'MAL_MSA_70']\n",
      "(2745, 512)\n",
      "(2422, 512)\n",
      "(2148, 512)\n",
      "(2148, 512)\n",
      "(2384, 512)\n",
      "(2071, 512)\n",
      "(2144, 512)\n",
      "(2349, 512)\n",
      "(2384, 512)\n",
      "(1987, 512)\n",
      "(2138, 512)\n",
      "(5226, 512)\n",
      "(2168, 512)\n",
      "(2135, 512)\n",
      "(2195, 512)\n",
      "(2590, 512)\n",
      "(2693, 512)\n",
      "(2058, 512)\n",
      "(2256, 512)\n",
      "(2381, 512)\n",
      "(2187, 512)\n",
      "(1837, 512)\n",
      "(2066, 512)\n",
      "(2812, 512)\n",
      "(1994, 512)\n",
      "(4644, 512)\n",
      "(2296, 512)\n",
      "(3493, 512)\n",
      "(2147, 512)\n",
      "(2136, 512)\n",
      "(1959, 512)\n",
      "(2138, 512)\n",
      "(2599, 512)\n",
      "(1949, 512)\n",
      "(1940, 512)\n",
      "(1844, 512)\n",
      "(1926, 512)\n",
      "(1868, 512)\n",
      "(1890, 512)\n",
      "(1896, 512)\n",
      "(2205, 512)\n",
      "(2024, 512)\n",
      "(1929, 512)\n",
      "(1961, 512)\n",
      "(2014, 512)\n",
      "(2168, 512)\n",
      "(2217, 512)\n",
      "(2391, 512)\n",
      "(2385, 512)\n",
      "(3040, 512)\n",
      "(3074, 512)\n",
      "(2456, 512)\n",
      "(2262, 512)\n",
      "(1884, 512)\n",
      "(2062, 512)\n",
      "(2534, 512)\n",
      "(1823, 512)\n",
      "(2398, 512)\n",
      "(2056, 512)\n",
      "(2452, 512)\n",
      "(4955, 512)\n",
      "(3449, 512)\n",
      "(5085, 512)\n",
      "(1952, 512)\n",
      "(2734, 512)\n",
      "(3348, 512)\n",
      "(3344, 512)\n",
      "(2416, 512)\n",
      "(2113, 512)\n"
     ]
    }
   ],
   "source": [
    "# Open the HDF5 file in read mode\n",
    "with h5py.File(video_embeddings_path, 'r') as file:\n",
    "    # List all the groups in the file\n",
    "    print(\"Groups in the HDF5 file:\")\n",
    "    g = list(file.keys())\n",
    "    print(g)\n",
    "    for i in g:\n",
    "        print(file[i].shape)"
   ]
  }
 ],
 "metadata": {
  "kernelspec": {
   "display_name": ".venv",
   "language": "python",
   "name": "python3"
  },
  "language_info": {
   "codemirror_mode": {
    "name": "ipython",
    "version": 3
   },
   "file_extension": ".py",
   "mimetype": "text/x-python",
   "name": "python",
   "nbconvert_exporter": "python",
   "pygments_lexer": "ipython3",
   "version": "3.11.2"
  }
 },
 "nbformat": 4,
 "nbformat_minor": 2
}
