{
 "cells": [
  {
   "cell_type": "code",
   "execution_count": 1,
   "metadata": {},
   "outputs": [
    {
     "name": "stderr",
     "output_type": "stream",
     "text": [
      "/home/christos/Projects/MSA/.venv/lib/python3.11/site-packages/tqdm/auto.py:21: TqdmWarning: IProgress not found. Please update jupyter and ipywidgets. See https://ipywidgets.readthedocs.io/en/stable/user_install.html\n",
      "  from .autonotebook import tqdm as notebook_tqdm\n"
     ]
    }
   ],
   "source": [
    "import numpy as np\n",
    "import os, h5py\n",
    "import torch\n",
    "from transformers import AutoModel, AutoTokenizer\n",
    "import librosa"
   ]
  },
  {
   "cell_type": "code",
   "execution_count": null,
   "metadata": {},
   "outputs": [],
   "source": [
    "# Load Indic-BERT model\n",
    "model = AutoModel.from_pretrained(\"ai4bharat/indic-bert\")\n",
    "tokenizer = AutoTokenizer.from_pretrained('ai4bharat/indic-bert')"
   ]
  },
  {
   "cell_type": "code",
   "execution_count": 2,
   "metadata": {},
   "outputs": [],
   "source": [
    "#  Process all videos in the folder\n",
    "audio_folder = \"../../datasets/Dravidian Dataset/malayalam_data/audio\"\n",
    "output_folder = \"../../datasets/Dravidian Dataset/malayalam_data/embeddings\"\n",
    "audio_embeddings_path = os.path.join(output_folder, \"audio_embeddings.h5\")"
   ]
  },
  {
   "cell_type": "code",
   "execution_count": null,
   "metadata": {},
   "outputs": [],
   "source": [
    "# Create a dictionary to store video embeddings\n",
    "audio_embeddings = {}\n",
    "\n",
    "for audio_file in os.listdir(audio_folder):\n",
    "    if audio_file.endswith(\".mp3\"):\n",
    "        audio_path = os.path.join(audio_folder, audio_file)\n",
    "        audio_name = os.path.splitext(audio_file)[0]\n",
    "\n",
    "        y, sr = librosa.load(audio_path, sr=44100)\n",
    "        mfccs = librosa.feature.mfcc(y=y, sr=sr, n_mfcc=13)\n",
    "        # Convert MFCCs to text (example)\n",
    "        text = \" \".join(str(value) for value in mfccs.flatten())\n",
    "        # Tokenize and encode text\n",
    "        inputs = tokenizer(text, return_tensors=\"pt\", padding=True, truncation=True, max_length=512, return_attention_mask=True, return_token_type_ids=True, return_special_tokens_mask=False, return_overflowing_tokens=False, return_offsets_mapping=False, verbose=False, is_split_into_words=False, add_special_tokens=True, pad_to_multiple_of=None, stride=0, truncation_strategy='longest_first', pad_to_max_length=False)\n",
    "        # Generate embeddings\n",
    "        with torch.no_grad():\n",
    "            outputs = model(**inputs)\n",
    "            audio_embedding = outputs.last_hidden_state.mean(dim=1).squeeze().numpy()\n",
    "\n",
    "        print(audio_embedding.shape)  # Shape of the embedding vector\n",
    "\n",
    "        # Take the first token of the last layer's output\n",
    "        audio_embeddings[audio_name] = audio_embedding"
   ]
  },
  {
   "cell_type": "code",
   "execution_count": null,
   "metadata": {},
   "outputs": [],
   "source": [
    "# Create an HDF5 file and write the data\n",
    "with h5py.File(audio_embeddings_path, 'w') as hf:\n",
    "    for audio_id, embedding in audio_embeddings.items():\n",
    "        hf.create_dataset(audio_id, data=embedding)"
   ]
  },
  {
   "cell_type": "code",
   "execution_count": 4,
   "metadata": {},
   "outputs": [
    {
     "name": "stdout",
     "output_type": "stream",
     "text": [
      "Groups in the HDF5 file:\n",
      "['MAL_MSA_01', 'MAL_MSA_02', 'MAL_MSA_03', 'MAL_MSA_04', 'MAL_MSA_05', 'MAL_MSA_06', 'MAL_MSA_07', 'MAL_MSA_08', 'MAL_MSA_09', 'MAL_MSA_10', 'MAL_MSA_11', 'MAL_MSA_12', 'MAL_MSA_13', 'MAL_MSA_14', 'MAL_MSA_15', 'MAL_MSA_16', 'MAL_MSA_17', 'MAL_MSA_18', 'MAL_MSA_19', 'MAL_MSA_20', 'MAL_MSA_21', 'MAL_MSA_22', 'MAL_MSA_23', 'MAL_MSA_24', 'MAL_MSA_25', 'MAL_MSA_26', 'MAL_MSA_27', 'MAL_MSA_28', 'MAL_MSA_29', 'MAL_MSA_30', 'MAL_MSA_31', 'MAL_MSA_32', 'MAL_MSA_33', 'MAL_MSA_34', 'MAL_MSA_35', 'MAL_MSA_36', 'MAL_MSA_37', 'MAL_MSA_38', 'MAL_MSA_39', 'MAL_MSA_40', 'MAL_MSA_41', 'MAL_MSA_42', 'MAL_MSA_43', 'MAL_MSA_44', 'MAL_MSA_45', 'MAL_MSA_46', 'MAL_MSA_47', 'MAL_MSA_48', 'MAL_MSA_49', 'MAL_MSA_50', 'MAL_MSA_51', 'MAL_MSA_52', 'MAL_MSA_53', 'MAL_MSA_54', 'MAL_MSA_55', 'MAL_MSA_56', 'MAL_MSA_57', 'MAL_MSA_58', 'MAL_MSA_59', 'MAL_MSA_60', 'MAL_MSA_61', 'MAL_MSA_62', 'MAL_MSA_63', 'MAL_MSA_64', 'MAL_MSA_65', 'MAL_MSA_66', 'MAL_MSA_67', 'MAL_MSA_68', 'MAL_MSA_69', 'MAL_MSA_70']\n",
      "MAL_MSA_01: (768,)\n",
      "MAL_MSA_02: (768,)\n",
      "MAL_MSA_03: (768,)\n",
      "MAL_MSA_04: (768,)\n",
      "MAL_MSA_05: (768,)\n",
      "MAL_MSA_06: (768,)\n",
      "MAL_MSA_07: (768,)\n",
      "MAL_MSA_08: (768,)\n",
      "MAL_MSA_09: (768,)\n",
      "MAL_MSA_10: (768,)\n",
      "MAL_MSA_11: (768,)\n",
      "MAL_MSA_12: (768,)\n",
      "MAL_MSA_13: (768,)\n",
      "MAL_MSA_14: (768,)\n",
      "MAL_MSA_15: (768,)\n",
      "MAL_MSA_16: (768,)\n",
      "MAL_MSA_17: (768,)\n",
      "MAL_MSA_18: (768,)\n",
      "MAL_MSA_19: (768,)\n",
      "MAL_MSA_20: (768,)\n",
      "MAL_MSA_21: (768,)\n",
      "MAL_MSA_22: (768,)\n",
      "MAL_MSA_23: (768,)\n",
      "MAL_MSA_24: (768,)\n",
      "MAL_MSA_25: (768,)\n",
      "MAL_MSA_26: (768,)\n",
      "MAL_MSA_27: (768,)\n",
      "MAL_MSA_28: (768,)\n",
      "MAL_MSA_29: (768,)\n",
      "MAL_MSA_30: (768,)\n",
      "MAL_MSA_31: (768,)\n",
      "MAL_MSA_32: (768,)\n",
      "MAL_MSA_33: (768,)\n",
      "MAL_MSA_34: (768,)\n",
      "MAL_MSA_35: (768,)\n",
      "MAL_MSA_36: (768,)\n",
      "MAL_MSA_37: (768,)\n",
      "MAL_MSA_38: (768,)\n",
      "MAL_MSA_39: (768,)\n",
      "MAL_MSA_40: (768,)\n",
      "MAL_MSA_41: (768,)\n",
      "MAL_MSA_42: (768,)\n",
      "MAL_MSA_43: (768,)\n",
      "MAL_MSA_44: (768,)\n",
      "MAL_MSA_45: (768,)\n",
      "MAL_MSA_46: (768,)\n",
      "MAL_MSA_47: (768,)\n",
      "MAL_MSA_48: (768,)\n",
      "MAL_MSA_49: (768,)\n",
      "MAL_MSA_50: (768,)\n",
      "MAL_MSA_51: (768,)\n",
      "MAL_MSA_52: (768,)\n",
      "MAL_MSA_53: (768,)\n",
      "MAL_MSA_54: (768,)\n",
      "MAL_MSA_55: (768,)\n",
      "MAL_MSA_56: (768,)\n",
      "MAL_MSA_57: (768,)\n",
      "MAL_MSA_58: (768,)\n",
      "MAL_MSA_59: (768,)\n",
      "MAL_MSA_60: (768,)\n",
      "MAL_MSA_61: (768,)\n",
      "MAL_MSA_62: (768,)\n",
      "MAL_MSA_63: (768,)\n",
      "MAL_MSA_64: (768,)\n",
      "MAL_MSA_65: (768,)\n",
      "MAL_MSA_66: (768,)\n",
      "MAL_MSA_67: (768,)\n",
      "MAL_MSA_68: (768,)\n",
      "MAL_MSA_69: (768,)\n",
      "MAL_MSA_70: (768,)\n"
     ]
    }
   ],
   "source": [
    "# Open the HDF5 file in read mode\n",
    "with h5py.File(audio_embeddings_path, 'r') as file:\n",
    "    # List all the groups in the file\n",
    "    print(\"Groups in the HDF5 file:\")\n",
    "    g = list(file.keys())\n",
    "    print(g)\n",
    "    for i in g:\n",
    "        print(f\"{i}: {file[i].shape}\")"
   ]
  }
 ],
 "metadata": {
  "kernelspec": {
   "display_name": ".venv",
   "language": "python",
   "name": "python3"
  },
  "language_info": {
   "codemirror_mode": {
    "name": "ipython",
    "version": 3
   },
   "file_extension": ".py",
   "mimetype": "text/x-python",
   "name": "python",
   "nbconvert_exporter": "python",
   "pygments_lexer": "ipython3",
   "version": "3.11.2"
  }
 },
 "nbformat": 4,
 "nbformat_minor": 2
}
